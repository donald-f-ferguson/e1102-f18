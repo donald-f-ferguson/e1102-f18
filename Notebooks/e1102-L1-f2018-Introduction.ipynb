{
 "cells": [
  {
   "cell_type": "markdown",
   "metadata": {},
   "source": [
    "<h1 style=\"line-height=1.2\">E1102 $-$ Art of Engineering<br>\n",
    "Computer Science/Engineering Project</h1>"
   ]
  },
  {
   "cell_type": "markdown",
   "metadata": {},
   "source": [
    "## Lecture Overview\n",
    "\n",
    "1. Introduction and project/course overview\n",
    "<br><br>\n",
    "1. TBD"
   ]
  },
  {
   "cell_type": "markdown",
   "metadata": {},
   "source": [
    "## Introduction\n",
    "\n",
    "### About your Instructor\n",
    "\n",
    "- _Professor of Professional Practice,_ Dept. of Computer Science.\n",
    "    - 624 Shapiro/CEPSR\n",
    "    - dff9@columbia.edu\n",
    "\n",
    "\n",
    "- Academic experience\n",
    "    - Ph.D. in Computer Science, Columbia University, 1989\n",
    "    - Joined Columbia as first full time _Professor of Professional Practice_, 01-Jan-2018\n",
    "    - 8 semesters as an adjunct professor teaching\n",
    "        - _E6998: Topics in Computer Science_\n",
    "            - Cloud Computing\n",
    "            - Web and Internet Application Development\n",
    "            - Web Application Servers and Applications\n",
    "            - Microservices\n",
    "        - _W4111 - Introduction to Databases_\n",
    "        - _E1006 - Introduction to Computing for Engineers and Applied Scientists using Python_\n",
    "\n",
    "\n",
    "- 35 years industry experience\n",
    "    - [IBM Fellow](https://en.wikipedia.org/wiki/IBM_Fellow), Chief Architect for [IBM Software Group](https://en.wikipedia.org/wiki/IBM_Software_Group_(SWG)\n",
    "    - Microsoft Technical Fellow\n",
    "    - Executive Vice President, Chief Technology Officer, [CA Technologies](https://www.ca.com/us.html)\n",
    "    - Vice President, CTO, Senior Fellow, [Dell Software Group](https://en.wikipedia.org/wiki/Dell_Software)\n",
    "    - Co-Founder and CTO, [Seeka TV](https://seekatv.com/)\n",
    "\n",
    "\n",
    "- Publications\n",
    "    - Approximately 60 technical publications.\n",
    "    - Authored, co-authored several standards in web applications and web services.\n",
    "    - 12 patents.\n",
    "\n",
    "\n",
    "- Personal and hobbies\n",
    "    - Two amazing daughters (One is Barnard student. One is a junior in high school).\n",
    "    - Interested in languages. Speak Spanish reasonably well and trying to learn Arabic.\n",
    "    - Black Belt in Kenpo Karate. Taken Krav Maga.\n",
    "    - Amateur astronomer.\n",
    "    - Road bicycling.\n",
    "    - Officer in the New York Guard.\n",
    "\n",
    "<br>\n",
    "\n",
    "|<img src=\"../images/aboutme.jpeg\">|\n",
    "|:---:|\n",
    "|__About Me__|\n",
    "\n",
    "\n",
    "\n",
    "### Format\n",
    "\n",
    "- Initial lectures/meetings:\n",
    "    - M 1:10 to 3:55 in 1220B\n",
    "    - Will hold an optional hack-a-thon on a weekend TBD.\n",
    "    \n",
    "    \n",
    "- No exams, papers, formal projects, etc.\n",
    "\n",
    "\n",
    "- Will have ongoing small group and large groups discussions of projects.\n",
    "\n",
    "\n",
    "- Mostly going to be hands-on lab work.\n",
    "   "
   ]
  },
  {
   "cell_type": "markdown",
   "metadata": {},
   "source": [
    "### Course/Project Overview\n",
    "\n",
    "__Computer  Science  /  Computer  Engineering:  Play  Some  Money  Ball!__<br>\n",
    "In  this  project,  you  will  analyze  historical  statistics  for  Major  League  Baseball.  The  statistics  include  aggregate  team  performance  statistics  and  the  statistics  for  individual  players. You  will  develop:  1)  An  interactive  application  that  displays  basic  team  and  player  information,  and  allows  users  to  define  fantasy  teams.  2)  An  IPython  notebook  (https://en.wikipedia.org/wiki/IPython)  that  allows  fans  to  analyze  the  baseball  data.  The  analysis  will  include  determining  a  team's  wins/loses  based  on  aggregate  hitting,  fielding  and  pitching  statistics,  and  the  correlation  between  team  salary  and  win/loss  performance.  You  will  then  use  this  information  and  the  interactive  web  site  to  define  a  team  and  project  win/loss  performance.  The  project  will  provide  a  hands-on  introduction  to  many  topics  in  computer  science:  web  applications,  machine  learning,  Python  and  Python  frameworks  and  cloud  Platform-as-a-Service.\"\n",
    "\n",
    "- The projects will be team projects, and we will form the teams NOW.\n",
    "\n",
    "\n",
    "- The project will cover a small set of introductory concepts from a subset of the CS undergraduate tracks:\n",
    "    - Theory: Analysis of algorithms, combinatorial optimization.\n",
    "    - Applications: Programming and problem solving.\n",
    "    - Intelligent Systems: Machine learning, database systems.\n",
    "    - Software Systems: Cloud computing.\n",
    "    - Vision and Graphics: User interface design."
   ]
  },
  {
   "cell_type": "markdown",
   "metadata": {},
   "source": [
    "- We will use the following technology, based on out progress:\n",
    "    - Git, GitHub\n",
    "    - Python\n",
    "    - Two databases: \n",
    "        - Relational: MySQL (or SQLite)\n",
    "        - Key-Value: Redis\n",
    "    - User interface:\n",
    "        - HTML, CSS, JavaScript\n",
    "        - Bootstrap\n",
    "    - Application server: Flask\n",
    "    - Several tools, frameworks and libraries"
   ]
  },
  {
   "cell_type": "markdown",
   "metadata": {},
   "source": [
    "### Environment and material\n",
    "- Course material\n",
    "    - Lectures and references: Textbooks are dated and also lack realistic scenarios and concepts.\n",
    "    - Lecture material and examples:\n",
    "        - Will be Jupyter Notebooks (http://jupyter.org/)\n",
    "        - Notebooks, slides, sample code, etc. will be available on [GitHub project](https://github.com/donald-f-ferguson/W4111-f18) for the course.\n",
    "        - I will also provide links to tutorials, documentation, etc.\n",
    "        \n",
    "        \n",
    "- Project and development\n",
    "    - I will primarily use Python. \n",
    "    - You can use the language of your choice, but my ability to help diminishes if you choose a language other than JavaScript, Python or Java.\n",
    "    \n",
    "    \n",
    "- Development environment\n",
    "    - Database engines and tools\n",
    "        - Please install\n",
    "            - [MySQL](https://dev.mysql.com/doc/refman/5.7/en/installing.html) and\n",
    "            - [MySQL Workbench](https://dev.mysql.com/doc/workbench/en/wb-installing.html).\n",
    "            - You can also use Sequel Pro on in place of SQL Workbench (on Mac).\n",
    "        - We will also use Redis (https://redis.io/), but you do not need to install now. \n",
    "    - [Integrated Development Environments](https://en.wikipedia.org/wiki/Integrated_development_environment)\n",
    "        - The [JetBrains](https://www.jetbrains.com/student/) tools are free for students, and useful for Python, JavaScript and Java.\n",
    "        - [Eclipse](https://www.eclipse.org/) is an alternative.\n",
    "        - I will use Ananconda/Jupyter for most of the lectures and examples. You can choose to install\n",
    "            - Install Python 3\n",
    "            - [Anaconda Community Distribution](https://www.anaconda.com/distribution)\n",
    "            - Ananconda includes the [Spyder](https://github.com/spyder-ide/spyder) for Python, which is sufficient for the course.\n",
    "            "
   ]
  },
  {
   "cell_type": "markdown",
   "metadata": {},
   "source": [
    "## Optimization Problem\n",
    "\n"
   ]
  },
  {
   "cell_type": "code",
   "execution_count": 1,
   "metadata": {},
   "outputs": [
    {
     "name": "stdout",
     "output_type": "stream",
     "text": [
      "Bagged the following items\n",
      "  banana\n",
      "  compass\n",
      "  glucose\n",
      "  map\n",
      "  note-case\n",
      "  sandwich\n",
      "  socks\n",
      "  sunglasses\n",
      "  suntan cream\n",
      "  water\n",
      "  waterproof overclothes\n",
      "  waterproof trousers\n",
      "for a total value of 1030 and a total weight of 396\n"
     ]
    }
   ],
   "source": [
    "from itertools import combinations\n",
    " \n",
    "def anycomb(items):\n",
    "    ' return combinations of any length from the items '\n",
    "    return ( comb\n",
    "             for r in range(1, len(items)+1)\n",
    "             for comb in combinations(items, r)\n",
    "             )\n",
    " \n",
    "def totalvalue(comb):\n",
    "    ' Totalise a particular combination of items'\n",
    "    totwt = totval = 0\n",
    "    for item, wt, val in comb:\n",
    "        totwt  += wt\n",
    "        totval += val\n",
    "    return (totval, -totwt) if totwt <= 400 else (0, 0)\n",
    " \n",
    "items = (\n",
    "    (\"map\", 9, 150), (\"compass\", 13, 35), (\"water\", 153, 200), (\"sandwich\", 50, 160),\n",
    "    (\"glucose\", 15, 60), (\"tin\", 68, 45), (\"banana\", 27, 60), (\"apple\", 39, 40),\n",
    "    (\"cheese\", 23, 30), (\"beer\", 52, 10), (\"suntan cream\", 11, 70), (\"camera\", 32, 30),\n",
    "    (\"t-shirt\", 24, 15), (\"trousers\", 48, 10), (\"umbrella\", 73, 40),\n",
    "    (\"waterproof trousers\", 42, 70), (\"waterproof overclothes\", 43, 75),\n",
    "    (\"note-case\", 22, 80), (\"sunglasses\", 7, 20), (\"towel\", 18, 12),\n",
    "    (\"socks\", 4, 50), (\"book\", 30, 10),\n",
    "    )\n",
    "bagged = max( anycomb(items), key=totalvalue) # max val or min wt if values equal\n",
    "print(\"Bagged the following items\\n  \" +\n",
    "      '\\n  '.join(sorted(item for item,_,_ in bagged)))\n",
    "val, wt = totalvalue(bagged)\n",
    "print(\"for a total value of %i and a total weight of %i\" % (val, -wt))"
   ]
  },
  {
   "cell_type": "code",
   "execution_count": 4,
   "metadata": {},
   "outputs": [],
   "source": [
    "x = [i for i in anycomb(items)]"
   ]
  },
  {
   "cell_type": "code",
   "execution_count": 17,
   "metadata": {},
   "outputs": [
    {
     "data": {
      "text/plain": [
       "22"
      ]
     },
     "execution_count": 17,
     "metadata": {},
     "output_type": "execute_result"
    }
   ],
   "source": [
    "len(items)"
   ]
  },
  {
   "cell_type": "code",
   "execution_count": 5,
   "metadata": {},
   "outputs": [
    {
     "data": {
      "text/plain": [
       "4194303"
      ]
     },
     "execution_count": 5,
     "metadata": {},
     "output_type": "execute_result"
    }
   ],
   "source": [
    "len(x)"
   ]
  },
  {
   "cell_type": "code",
   "execution_count": 7,
   "metadata": {},
   "outputs": [
    {
     "data": {
      "text/plain": [
       "(('glucose', 15, 60), ('cheese', 23, 30), ('camera', 32, 30))"
      ]
     },
     "execution_count": 7,
     "metadata": {},
     "output_type": "execute_result"
    }
   ],
   "source": [
    "x[1024]"
   ]
  },
  {
   "cell_type": "code",
   "execution_count": 8,
   "metadata": {},
   "outputs": [],
   "source": [
    "def p(l):\n",
    "    if not l: return [[]]\n",
    "    return p(l[1:]) + [[l[0]] + x for x in p(l[1:])]"
   ]
  },
  {
   "cell_type": "code",
   "execution_count": 9,
   "metadata": {},
   "outputs": [],
   "source": [
    "y = p(items)"
   ]
  },
  {
   "cell_type": "code",
   "execution_count": 10,
   "metadata": {},
   "outputs": [
    {
     "data": {
      "text/plain": [
       "4194304"
      ]
     },
     "execution_count": 10,
     "metadata": {},
     "output_type": "execute_result"
    }
   ],
   "source": [
    "len(y)"
   ]
  },
  {
   "cell_type": "code",
   "execution_count": 11,
   "metadata": {},
   "outputs": [
    {
     "data": {
      "text/plain": [
       "4096"
      ]
     },
     "execution_count": 11,
     "metadata": {},
     "output_type": "execute_result"
    }
   ],
   "source": [
    "2**12"
   ]
  },
  {
   "cell_type": "code",
   "execution_count": 14,
   "metadata": {},
   "outputs": [
    {
     "data": {
      "text/plain": [
       "[('book', 30, 10)]"
      ]
     },
     "execution_count": 14,
     "metadata": {},
     "output_type": "execute_result"
    }
   ],
   "source": [
    "y[1]"
   ]
  },
  {
   "cell_type": "code",
   "execution_count": 16,
   "metadata": {},
   "outputs": [
    {
     "name": "stdout",
     "output_type": "stream",
     "text": [
      "[]\n",
      "[('book', 30, 10)]\n",
      "[('socks', 4, 50)]\n",
      "[('socks', 4, 50), ('book', 30, 10)]\n",
      "[('towel', 18, 12)]\n",
      "[('towel', 18, 12), ('book', 30, 10)]\n",
      "[('towel', 18, 12), ('socks', 4, 50)]\n",
      "[('towel', 18, 12), ('socks', 4, 50), ('book', 30, 10)]\n",
      "[('sunglasses', 7, 20)]\n",
      "[('sunglasses', 7, 20), ('book', 30, 10)]\n",
      "[('sunglasses', 7, 20), ('socks', 4, 50)]\n",
      "[('sunglasses', 7, 20), ('socks', 4, 50), ('book', 30, 10)]\n",
      "[('sunglasses', 7, 20), ('towel', 18, 12)]\n",
      "[('sunglasses', 7, 20), ('towel', 18, 12), ('book', 30, 10)]\n",
      "[('sunglasses', 7, 20), ('towel', 18, 12), ('socks', 4, 50)]\n",
      "[('sunglasses', 7, 20), ('towel', 18, 12), ('socks', 4, 50), ('book', 30, 10)]\n",
      "[('note-case', 22, 80)]\n",
      "[('note-case', 22, 80), ('book', 30, 10)]\n",
      "[('note-case', 22, 80), ('socks', 4, 50)]\n",
      "[('note-case', 22, 80), ('socks', 4, 50), ('book', 30, 10)]\n",
      "[('note-case', 22, 80), ('towel', 18, 12)]\n",
      "[('note-case', 22, 80), ('towel', 18, 12), ('book', 30, 10)]\n",
      "[('note-case', 22, 80), ('towel', 18, 12), ('socks', 4, 50)]\n",
      "[('note-case', 22, 80), ('towel', 18, 12), ('socks', 4, 50), ('book', 30, 10)]\n",
      "[('note-case', 22, 80), ('sunglasses', 7, 20)]\n",
      "[('note-case', 22, 80), ('sunglasses', 7, 20), ('book', 30, 10)]\n",
      "[('note-case', 22, 80), ('sunglasses', 7, 20), ('socks', 4, 50)]\n",
      "[('note-case', 22, 80), ('sunglasses', 7, 20), ('socks', 4, 50), ('book', 30, 10)]\n",
      "[('note-case', 22, 80), ('sunglasses', 7, 20), ('towel', 18, 12)]\n",
      "[('note-case', 22, 80), ('sunglasses', 7, 20), ('towel', 18, 12), ('book', 30, 10)]\n",
      "[('note-case', 22, 80), ('sunglasses', 7, 20), ('towel', 18, 12), ('socks', 4, 50)]\n",
      "[('note-case', 22, 80), ('sunglasses', 7, 20), ('towel', 18, 12), ('socks', 4, 50), ('book', 30, 10)]\n",
      "[('waterproof overclothes', 43, 75)]\n",
      "[('waterproof overclothes', 43, 75), ('book', 30, 10)]\n",
      "[('waterproof overclothes', 43, 75), ('socks', 4, 50)]\n",
      "[('waterproof overclothes', 43, 75), ('socks', 4, 50), ('book', 30, 10)]\n",
      "[('waterproof overclothes', 43, 75), ('towel', 18, 12)]\n",
      "[('waterproof overclothes', 43, 75), ('towel', 18, 12), ('book', 30, 10)]\n",
      "[('waterproof overclothes', 43, 75), ('towel', 18, 12), ('socks', 4, 50)]\n",
      "[('waterproof overclothes', 43, 75), ('towel', 18, 12), ('socks', 4, 50), ('book', 30, 10)]\n",
      "[('waterproof overclothes', 43, 75), ('sunglasses', 7, 20)]\n",
      "[('waterproof overclothes', 43, 75), ('sunglasses', 7, 20), ('book', 30, 10)]\n",
      "[('waterproof overclothes', 43, 75), ('sunglasses', 7, 20), ('socks', 4, 50)]\n",
      "[('waterproof overclothes', 43, 75), ('sunglasses', 7, 20), ('socks', 4, 50), ('book', 30, 10)]\n",
      "[('waterproof overclothes', 43, 75), ('sunglasses', 7, 20), ('towel', 18, 12)]\n",
      "[('waterproof overclothes', 43, 75), ('sunglasses', 7, 20), ('towel', 18, 12), ('book', 30, 10)]\n",
      "[('waterproof overclothes', 43, 75), ('sunglasses', 7, 20), ('towel', 18, 12), ('socks', 4, 50)]\n",
      "[('waterproof overclothes', 43, 75), ('sunglasses', 7, 20), ('towel', 18, 12), ('socks', 4, 50), ('book', 30, 10)]\n",
      "[('waterproof overclothes', 43, 75), ('note-case', 22, 80)]\n",
      "[('waterproof overclothes', 43, 75), ('note-case', 22, 80), ('book', 30, 10)]\n",
      "[('waterproof overclothes', 43, 75), ('note-case', 22, 80), ('socks', 4, 50)]\n",
      "[('waterproof overclothes', 43, 75), ('note-case', 22, 80), ('socks', 4, 50), ('book', 30, 10)]\n",
      "[('waterproof overclothes', 43, 75), ('note-case', 22, 80), ('towel', 18, 12)]\n",
      "[('waterproof overclothes', 43, 75), ('note-case', 22, 80), ('towel', 18, 12), ('book', 30, 10)]\n",
      "[('waterproof overclothes', 43, 75), ('note-case', 22, 80), ('towel', 18, 12), ('socks', 4, 50)]\n",
      "[('waterproof overclothes', 43, 75), ('note-case', 22, 80), ('towel', 18, 12), ('socks', 4, 50), ('book', 30, 10)]\n",
      "[('waterproof overclothes', 43, 75), ('note-case', 22, 80), ('sunglasses', 7, 20)]\n",
      "[('waterproof overclothes', 43, 75), ('note-case', 22, 80), ('sunglasses', 7, 20), ('book', 30, 10)]\n",
      "[('waterproof overclothes', 43, 75), ('note-case', 22, 80), ('sunglasses', 7, 20), ('socks', 4, 50)]\n",
      "[('waterproof overclothes', 43, 75), ('note-case', 22, 80), ('sunglasses', 7, 20), ('socks', 4, 50), ('book', 30, 10)]\n",
      "[('waterproof overclothes', 43, 75), ('note-case', 22, 80), ('sunglasses', 7, 20), ('towel', 18, 12)]\n",
      "[('waterproof overclothes', 43, 75), ('note-case', 22, 80), ('sunglasses', 7, 20), ('towel', 18, 12), ('book', 30, 10)]\n",
      "[('waterproof overclothes', 43, 75), ('note-case', 22, 80), ('sunglasses', 7, 20), ('towel', 18, 12), ('socks', 4, 50)]\n",
      "[('waterproof overclothes', 43, 75), ('note-case', 22, 80), ('sunglasses', 7, 20), ('towel', 18, 12), ('socks', 4, 50), ('book', 30, 10)]\n",
      "[('waterproof trousers', 42, 70)]\n",
      "[('waterproof trousers', 42, 70), ('book', 30, 10)]\n",
      "[('waterproof trousers', 42, 70), ('socks', 4, 50)]\n",
      "[('waterproof trousers', 42, 70), ('socks', 4, 50), ('book', 30, 10)]\n",
      "[('waterproof trousers', 42, 70), ('towel', 18, 12)]\n",
      "[('waterproof trousers', 42, 70), ('towel', 18, 12), ('book', 30, 10)]\n",
      "[('waterproof trousers', 42, 70), ('towel', 18, 12), ('socks', 4, 50)]\n",
      "[('waterproof trousers', 42, 70), ('towel', 18, 12), ('socks', 4, 50), ('book', 30, 10)]\n",
      "[('waterproof trousers', 42, 70), ('sunglasses', 7, 20)]\n",
      "[('waterproof trousers', 42, 70), ('sunglasses', 7, 20), ('book', 30, 10)]\n",
      "[('waterproof trousers', 42, 70), ('sunglasses', 7, 20), ('socks', 4, 50)]\n",
      "[('waterproof trousers', 42, 70), ('sunglasses', 7, 20), ('socks', 4, 50), ('book', 30, 10)]\n",
      "[('waterproof trousers', 42, 70), ('sunglasses', 7, 20), ('towel', 18, 12)]\n",
      "[('waterproof trousers', 42, 70), ('sunglasses', 7, 20), ('towel', 18, 12), ('book', 30, 10)]\n",
      "[('waterproof trousers', 42, 70), ('sunglasses', 7, 20), ('towel', 18, 12), ('socks', 4, 50)]\n",
      "[('waterproof trousers', 42, 70), ('sunglasses', 7, 20), ('towel', 18, 12), ('socks', 4, 50), ('book', 30, 10)]\n",
      "[('waterproof trousers', 42, 70), ('note-case', 22, 80)]\n",
      "[('waterproof trousers', 42, 70), ('note-case', 22, 80), ('book', 30, 10)]\n",
      "[('waterproof trousers', 42, 70), ('note-case', 22, 80), ('socks', 4, 50)]\n",
      "[('waterproof trousers', 42, 70), ('note-case', 22, 80), ('socks', 4, 50), ('book', 30, 10)]\n",
      "[('waterproof trousers', 42, 70), ('note-case', 22, 80), ('towel', 18, 12)]\n",
      "[('waterproof trousers', 42, 70), ('note-case', 22, 80), ('towel', 18, 12), ('book', 30, 10)]\n",
      "[('waterproof trousers', 42, 70), ('note-case', 22, 80), ('towel', 18, 12), ('socks', 4, 50)]\n",
      "[('waterproof trousers', 42, 70), ('note-case', 22, 80), ('towel', 18, 12), ('socks', 4, 50), ('book', 30, 10)]\n",
      "[('waterproof trousers', 42, 70), ('note-case', 22, 80), ('sunglasses', 7, 20)]\n",
      "[('waterproof trousers', 42, 70), ('note-case', 22, 80), ('sunglasses', 7, 20), ('book', 30, 10)]\n",
      "[('waterproof trousers', 42, 70), ('note-case', 22, 80), ('sunglasses', 7, 20), ('socks', 4, 50)]\n",
      "[('waterproof trousers', 42, 70), ('note-case', 22, 80), ('sunglasses', 7, 20), ('socks', 4, 50), ('book', 30, 10)]\n",
      "[('waterproof trousers', 42, 70), ('note-case', 22, 80), ('sunglasses', 7, 20), ('towel', 18, 12)]\n",
      "[('waterproof trousers', 42, 70), ('note-case', 22, 80), ('sunglasses', 7, 20), ('towel', 18, 12), ('book', 30, 10)]\n",
      "[('waterproof trousers', 42, 70), ('note-case', 22, 80), ('sunglasses', 7, 20), ('towel', 18, 12), ('socks', 4, 50)]\n",
      "[('waterproof trousers', 42, 70), ('note-case', 22, 80), ('sunglasses', 7, 20), ('towel', 18, 12), ('socks', 4, 50), ('book', 30, 10)]\n",
      "[('waterproof trousers', 42, 70), ('waterproof overclothes', 43, 75)]\n",
      "[('waterproof trousers', 42, 70), ('waterproof overclothes', 43, 75), ('book', 30, 10)]\n",
      "[('waterproof trousers', 42, 70), ('waterproof overclothes', 43, 75), ('socks', 4, 50)]\n",
      "[('waterproof trousers', 42, 70), ('waterproof overclothes', 43, 75), ('socks', 4, 50), ('book', 30, 10)]\n",
      "[('waterproof trousers', 42, 70), ('waterproof overclothes', 43, 75), ('towel', 18, 12)]\n",
      "101\n"
     ]
    }
   ],
   "source": [
    "count = 0\n",
    "for z in y:\n",
    "    print(z)\n",
    "    count = count +1\n",
    "    if count > 100:\n",
    "        break\n",
    "print(count)"
   ]
  },
  {
   "cell_type": "code",
   "execution_count": null,
   "metadata": {},
   "outputs": [],
   "source": []
  }
 ],
 "metadata": {
  "kernelspec": {
   "display_name": "Python 3",
   "language": "python",
   "name": "python3"
  },
  "language_info": {
   "codemirror_mode": {
    "name": "ipython",
    "version": 3
   },
   "file_extension": ".py",
   "mimetype": "text/x-python",
   "name": "python",
   "nbconvert_exporter": "python",
   "pygments_lexer": "ipython3",
   "version": "3.6.3"
  },
  "toc": {
   "nav_menu": {},
   "number_sections": true,
   "sideBar": true,
   "skip_h1_title": false,
   "title_cell": "Table of Contents",
   "title_sidebar": "Contents",
   "toc_cell": false,
   "toc_position": {
    "height": "calc(100% - 180px)",
    "left": "10px",
    "top": "150px",
    "width": "286px"
   },
   "toc_section_display": true,
   "toc_window_display": false
  }
 },
 "nbformat": 4,
 "nbformat_minor": 2
}
